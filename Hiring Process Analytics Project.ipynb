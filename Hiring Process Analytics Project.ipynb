{
 "cells": [
  {
   "cell_type": "markdown",
   "id": "4588a30a",
   "metadata": {},
   "source": [
    "# Hiring Process Analytics"
   ]
  },
  {
   "cell_type": "markdown",
   "id": "92dbb633",
   "metadata": {},
   "source": [
    "## Below are the Contents of Project:"
   ]
  },
  {
   "cell_type": "markdown",
   "id": "a6b6b8b6",
   "metadata": {},
   "source": [
    ">1. <a href=\"#Description:\">Description</a>\n",
    "2. <a href=\"#Importing-Python-Packages:\">Importing Python Packages</a>\n",
    "3. <a href=\"#Describing-Dataset:\">Describing Dataset</a>\n",
    "4. <a href=\"#Data-Preprocessing:\">Data Preprocessing</a>\n",
    "5. <a href=\"#Analysis:\">Analysis</a>"
   ]
  },
  {
   "cell_type": "markdown",
   "id": "4125e1fb",
   "metadata": {},
   "source": [
    "### Description:<br>\n",
    "> Hiring process is the fundamental and the most important function of a company. Here, the MNCs get to know about the major underlying trends about the hiring process. Trends such as- number of rejections, number of interviews, types of jobs, vacancies etc. are important for a company to analyse before hiring freshers or any other individual."
   ]
  },
  {
   "cell_type": "markdown",
   "id": "f8575c7f",
   "metadata": {},
   "source": [
    ">**You are required to provide a detailed report for the below data record mentioning the answers of the questions that follows:**<br>\n",
    "You are given a dataset of a company where the details about people who registered for a particular post in a department of this company. You are required to use your knowledge in statistics and use different formulas in excel and draw necessary conclusions about the company.<br>\n",
    "\n",
    "[<a href=\"#Hiring-Process-Analytics\">Back to Top</a>]"
   ]
  },
  {
   "cell_type": "markdown",
   "id": "0744b807",
   "metadata": {},
   "source": [
    "<div class=\"alert alert-block alert-info\">\n",
    "<b>Note:</b>The entire Analysis was done with Python Packages and MS Excel\n",
    "</div>"
   ]
  },
  {
   "cell_type": "markdown",
   "id": "afe9b8ba",
   "metadata": {},
   "source": [
    "---"
   ]
  },
  {
   "cell_type": "markdown",
   "id": "6904d619",
   "metadata": {},
   "source": [
    "##### Importing Python Packages:"
   ]
  },
  {
   "cell_type": "code",
   "execution_count": 2,
   "id": "510ba006",
   "metadata": {},
   "outputs": [],
   "source": [
    "import numpy as np\n",
    "import pandas as pd\n",
    "import seaborn as sns\n",
    "import matplotlib.pyplot as plt"
   ]
  },
  {
   "cell_type": "code",
   "execution_count": 3,
   "id": "bb8fac36",
   "metadata": {},
   "outputs": [],
   "source": [
    "data=pd.read_csv(\"C:/Users/kshit/Downloads/Statistics.xlsx - Sheet1.csv\",parse_dates=[\"Interview Taken on\"])"
   ]
  },
  {
   "cell_type": "code",
   "execution_count": 4,
   "id": "06933769",
   "metadata": {},
   "outputs": [
    {
     "data": {
      "text/html": [
       "<div>\n",
       "<style scoped>\n",
       "    .dataframe tbody tr th:only-of-type {\n",
       "        vertical-align: middle;\n",
       "    }\n",
       "\n",
       "    .dataframe tbody tr th {\n",
       "        vertical-align: top;\n",
       "    }\n",
       "\n",
       "    .dataframe thead th {\n",
       "        text-align: right;\n",
       "    }\n",
       "</style>\n",
       "<table border=\"1\" class=\"dataframe\">\n",
       "  <thead>\n",
       "    <tr style=\"text-align: right;\">\n",
       "      <th></th>\n",
       "      <th>application_id</th>\n",
       "      <th>Interview Taken on</th>\n",
       "      <th>Status</th>\n",
       "      <th>event_name</th>\n",
       "      <th>Department</th>\n",
       "      <th>Post Name</th>\n",
       "      <th>Offered Salary</th>\n",
       "    </tr>\n",
       "  </thead>\n",
       "  <tbody>\n",
       "    <tr>\n",
       "      <th>0</th>\n",
       "      <td>383422</td>\n",
       "      <td>2014-05-01 11:40:00</td>\n",
       "      <td>Hired</td>\n",
       "      <td>Male</td>\n",
       "      <td>Service Department</td>\n",
       "      <td>c8</td>\n",
       "      <td>56553.0</td>\n",
       "    </tr>\n",
       "    <tr>\n",
       "      <th>1</th>\n",
       "      <td>907518</td>\n",
       "      <td>2014-05-06 08:08:00</td>\n",
       "      <td>Hired</td>\n",
       "      <td>Female</td>\n",
       "      <td>Service Department</td>\n",
       "      <td>c5</td>\n",
       "      <td>22075.0</td>\n",
       "    </tr>\n",
       "    <tr>\n",
       "      <th>2</th>\n",
       "      <td>176719</td>\n",
       "      <td>2014-05-06 08:08:00</td>\n",
       "      <td>Rejected</td>\n",
       "      <td>Male</td>\n",
       "      <td>Service Department</td>\n",
       "      <td>c5</td>\n",
       "      <td>70069.0</td>\n",
       "    </tr>\n",
       "    <tr>\n",
       "      <th>3</th>\n",
       "      <td>429799</td>\n",
       "      <td>2014-05-02 16:28:00</td>\n",
       "      <td>Rejected</td>\n",
       "      <td>Female</td>\n",
       "      <td>Operations Department</td>\n",
       "      <td>i4</td>\n",
       "      <td>3207.0</td>\n",
       "    </tr>\n",
       "    <tr>\n",
       "      <th>4</th>\n",
       "      <td>253651</td>\n",
       "      <td>2014-05-02 16:32:00</td>\n",
       "      <td>Hired</td>\n",
       "      <td>Male</td>\n",
       "      <td>Operations Department</td>\n",
       "      <td>i4</td>\n",
       "      <td>29668.0</td>\n",
       "    </tr>\n",
       "    <tr>\n",
       "      <th>...</th>\n",
       "      <td>...</td>\n",
       "      <td>...</td>\n",
       "      <td>...</td>\n",
       "      <td>...</td>\n",
       "      <td>...</td>\n",
       "      <td>...</td>\n",
       "      <td>...</td>\n",
       "    </tr>\n",
       "    <tr>\n",
       "      <th>7163</th>\n",
       "      <td>493131</td>\n",
       "      <td>2014-08-28 17:32:00</td>\n",
       "      <td>Hired</td>\n",
       "      <td>Male</td>\n",
       "      <td>Service Department</td>\n",
       "      <td>c9</td>\n",
       "      <td>49282.0</td>\n",
       "    </tr>\n",
       "    <tr>\n",
       "      <th>7164</th>\n",
       "      <td>214261</td>\n",
       "      <td>2014-08-31 01:36:00</td>\n",
       "      <td>Hired</td>\n",
       "      <td>Female</td>\n",
       "      <td>Service Department</td>\n",
       "      <td>c5</td>\n",
       "      <td>57742.0</td>\n",
       "    </tr>\n",
       "    <tr>\n",
       "      <th>7165</th>\n",
       "      <td>932441</td>\n",
       "      <td>2014-08-31 01:37:00</td>\n",
       "      <td>Hired</td>\n",
       "      <td>Male</td>\n",
       "      <td>Service Department</td>\n",
       "      <td>c5</td>\n",
       "      <td>69932.0</td>\n",
       "    </tr>\n",
       "    <tr>\n",
       "      <th>7166</th>\n",
       "      <td>39010</td>\n",
       "      <td>2014-08-31 01:38:00</td>\n",
       "      <td>Rejected</td>\n",
       "      <td>Male</td>\n",
       "      <td>Service Department</td>\n",
       "      <td>c5</td>\n",
       "      <td>14489.0</td>\n",
       "    </tr>\n",
       "    <tr>\n",
       "      <th>7167</th>\n",
       "      <td>686055</td>\n",
       "      <td>2014-08-26 12:14:00</td>\n",
       "      <td>Hired</td>\n",
       "      <td>Male</td>\n",
       "      <td>Operations Department</td>\n",
       "      <td>c5</td>\n",
       "      <td>54201.0</td>\n",
       "    </tr>\n",
       "  </tbody>\n",
       "</table>\n",
       "<p>7168 rows × 7 columns</p>\n",
       "</div>"
      ],
      "text/plain": [
       "      application_id  Interview Taken on    Status event_name  \\\n",
       "0             383422 2014-05-01 11:40:00     Hired       Male   \n",
       "1             907518 2014-05-06 08:08:00     Hired     Female   \n",
       "2             176719 2014-05-06 08:08:00  Rejected       Male   \n",
       "3             429799 2014-05-02 16:28:00  Rejected     Female   \n",
       "4             253651 2014-05-02 16:32:00     Hired       Male   \n",
       "...              ...                 ...       ...        ...   \n",
       "7163          493131 2014-08-28 17:32:00     Hired       Male   \n",
       "7164          214261 2014-08-31 01:36:00     Hired     Female   \n",
       "7165          932441 2014-08-31 01:37:00     Hired       Male   \n",
       "7166           39010 2014-08-31 01:38:00  Rejected       Male   \n",
       "7167          686055 2014-08-26 12:14:00     Hired       Male   \n",
       "\n",
       "                 Department Post Name  Offered Salary  \n",
       "0        Service Department        c8         56553.0  \n",
       "1        Service Department        c5         22075.0  \n",
       "2        Service Department        c5         70069.0  \n",
       "3     Operations Department        i4          3207.0  \n",
       "4     Operations Department        i4         29668.0  \n",
       "...                     ...       ...             ...  \n",
       "7163     Service Department        c9         49282.0  \n",
       "7164     Service Department        c5         57742.0  \n",
       "7165     Service Department        c5         69932.0  \n",
       "7166     Service Department        c5         14489.0  \n",
       "7167  Operations Department        c5         54201.0  \n",
       "\n",
       "[7168 rows x 7 columns]"
      ]
     },
     "execution_count": 4,
     "metadata": {},
     "output_type": "execute_result"
    }
   ],
   "source": [
    "data"
   ]
  },
  {
   "cell_type": "markdown",
   "id": "0efd1c26",
   "metadata": {},
   "source": [
    "[<a href=\"#Hiring-Process-Analytics\">Back to Top</a>]"
   ]
  },
  {
   "cell_type": "markdown",
   "id": "d63283ea",
   "metadata": {},
   "source": [
    "---"
   ]
  },
  {
   "cell_type": "markdown",
   "id": "87976933",
   "metadata": {},
   "source": [
    "### Describing Dataset:"
   ]
  },
  {
   "cell_type": "code",
   "execution_count": 5,
   "id": "22dbd634",
   "metadata": {},
   "outputs": [
    {
     "data": {
      "text/plain": [
       "50176"
      ]
     },
     "execution_count": 5,
     "metadata": {},
     "output_type": "execute_result"
    }
   ],
   "source": [
    "data.size"
   ]
  },
  {
   "cell_type": "code",
   "execution_count": 6,
   "id": "477956a0",
   "metadata": {},
   "outputs": [
    {
     "name": "stdout",
     "output_type": "stream",
     "text": [
      "Total Rows   :  7168\n",
      "Total Columns:  7\n"
     ]
    }
   ],
   "source": [
    "rows,columns=data.shape\n",
    "print(\"Total Rows   : \", rows)\n",
    "print(\"Total Columns: \", columns)"
   ]
  },
  {
   "cell_type": "code",
   "execution_count": 7,
   "id": "87634fca",
   "metadata": {},
   "outputs": [
    {
     "data": {
      "text/html": [
       "<div>\n",
       "<style scoped>\n",
       "    .dataframe tbody tr th:only-of-type {\n",
       "        vertical-align: middle;\n",
       "    }\n",
       "\n",
       "    .dataframe tbody tr th {\n",
       "        vertical-align: top;\n",
       "    }\n",
       "\n",
       "    .dataframe thead th {\n",
       "        text-align: right;\n",
       "    }\n",
       "</style>\n",
       "<table border=\"1\" class=\"dataframe\">\n",
       "  <thead>\n",
       "    <tr style=\"text-align: right;\">\n",
       "      <th></th>\n",
       "      <th>application_id</th>\n",
       "      <th>Interview Taken on</th>\n",
       "      <th>Status</th>\n",
       "      <th>event_name</th>\n",
       "      <th>Department</th>\n",
       "      <th>Post Name</th>\n",
       "      <th>Offered Salary</th>\n",
       "    </tr>\n",
       "  </thead>\n",
       "  <tbody>\n",
       "    <tr>\n",
       "      <th>0</th>\n",
       "      <td>383422</td>\n",
       "      <td>2014-05-01 11:40:00</td>\n",
       "      <td>Hired</td>\n",
       "      <td>Male</td>\n",
       "      <td>Service Department</td>\n",
       "      <td>c8</td>\n",
       "      <td>56553.0</td>\n",
       "    </tr>\n",
       "    <tr>\n",
       "      <th>1</th>\n",
       "      <td>907518</td>\n",
       "      <td>2014-05-06 08:08:00</td>\n",
       "      <td>Hired</td>\n",
       "      <td>Female</td>\n",
       "      <td>Service Department</td>\n",
       "      <td>c5</td>\n",
       "      <td>22075.0</td>\n",
       "    </tr>\n",
       "    <tr>\n",
       "      <th>2</th>\n",
       "      <td>176719</td>\n",
       "      <td>2014-05-06 08:08:00</td>\n",
       "      <td>Rejected</td>\n",
       "      <td>Male</td>\n",
       "      <td>Service Department</td>\n",
       "      <td>c5</td>\n",
       "      <td>70069.0</td>\n",
       "    </tr>\n",
       "    <tr>\n",
       "      <th>3</th>\n",
       "      <td>429799</td>\n",
       "      <td>2014-05-02 16:28:00</td>\n",
       "      <td>Rejected</td>\n",
       "      <td>Female</td>\n",
       "      <td>Operations Department</td>\n",
       "      <td>i4</td>\n",
       "      <td>3207.0</td>\n",
       "    </tr>\n",
       "  </tbody>\n",
       "</table>\n",
       "</div>"
      ],
      "text/plain": [
       "   application_id  Interview Taken on    Status event_name  \\\n",
       "0          383422 2014-05-01 11:40:00     Hired       Male   \n",
       "1          907518 2014-05-06 08:08:00     Hired     Female   \n",
       "2          176719 2014-05-06 08:08:00  Rejected       Male   \n",
       "3          429799 2014-05-02 16:28:00  Rejected     Female   \n",
       "\n",
       "              Department Post Name  Offered Salary  \n",
       "0     Service Department        c8         56553.0  \n",
       "1     Service Department        c5         22075.0  \n",
       "2     Service Department        c5         70069.0  \n",
       "3  Operations Department        i4          3207.0  "
      ]
     },
     "execution_count": 7,
     "metadata": {},
     "output_type": "execute_result"
    }
   ],
   "source": [
    "data.head(4)"
   ]
  },
  {
   "cell_type": "code",
   "execution_count": 8,
   "id": "9fd49d02",
   "metadata": {},
   "outputs": [
    {
     "data": {
      "text/html": [
       "<div>\n",
       "<style scoped>\n",
       "    .dataframe tbody tr th:only-of-type {\n",
       "        vertical-align: middle;\n",
       "    }\n",
       "\n",
       "    .dataframe tbody tr th {\n",
       "        vertical-align: top;\n",
       "    }\n",
       "\n",
       "    .dataframe thead th {\n",
       "        text-align: right;\n",
       "    }\n",
       "</style>\n",
       "<table border=\"1\" class=\"dataframe\">\n",
       "  <thead>\n",
       "    <tr style=\"text-align: right;\">\n",
       "      <th></th>\n",
       "      <th>application_id</th>\n",
       "      <th>Interview Taken on</th>\n",
       "      <th>Status</th>\n",
       "      <th>event_name</th>\n",
       "      <th>Department</th>\n",
       "      <th>Post Name</th>\n",
       "      <th>Offered Salary</th>\n",
       "    </tr>\n",
       "  </thead>\n",
       "  <tbody>\n",
       "    <tr>\n",
       "      <th>7164</th>\n",
       "      <td>214261</td>\n",
       "      <td>2014-08-31 01:36:00</td>\n",
       "      <td>Hired</td>\n",
       "      <td>Female</td>\n",
       "      <td>Service Department</td>\n",
       "      <td>c5</td>\n",
       "      <td>57742.0</td>\n",
       "    </tr>\n",
       "    <tr>\n",
       "      <th>7165</th>\n",
       "      <td>932441</td>\n",
       "      <td>2014-08-31 01:37:00</td>\n",
       "      <td>Hired</td>\n",
       "      <td>Male</td>\n",
       "      <td>Service Department</td>\n",
       "      <td>c5</td>\n",
       "      <td>69932.0</td>\n",
       "    </tr>\n",
       "    <tr>\n",
       "      <th>7166</th>\n",
       "      <td>39010</td>\n",
       "      <td>2014-08-31 01:38:00</td>\n",
       "      <td>Rejected</td>\n",
       "      <td>Male</td>\n",
       "      <td>Service Department</td>\n",
       "      <td>c5</td>\n",
       "      <td>14489.0</td>\n",
       "    </tr>\n",
       "    <tr>\n",
       "      <th>7167</th>\n",
       "      <td>686055</td>\n",
       "      <td>2014-08-26 12:14:00</td>\n",
       "      <td>Hired</td>\n",
       "      <td>Male</td>\n",
       "      <td>Operations Department</td>\n",
       "      <td>c5</td>\n",
       "      <td>54201.0</td>\n",
       "    </tr>\n",
       "  </tbody>\n",
       "</table>\n",
       "</div>"
      ],
      "text/plain": [
       "      application_id  Interview Taken on    Status event_name  \\\n",
       "7164          214261 2014-08-31 01:36:00     Hired     Female   \n",
       "7165          932441 2014-08-31 01:37:00     Hired       Male   \n",
       "7166           39010 2014-08-31 01:38:00  Rejected       Male   \n",
       "7167          686055 2014-08-26 12:14:00     Hired       Male   \n",
       "\n",
       "                 Department Post Name  Offered Salary  \n",
       "7164     Service Department        c5         57742.0  \n",
       "7165     Service Department        c5         69932.0  \n",
       "7166     Service Department        c5         14489.0  \n",
       "7167  Operations Department        c5         54201.0  "
      ]
     },
     "execution_count": 8,
     "metadata": {},
     "output_type": "execute_result"
    }
   ],
   "source": [
    "data.tail(4)"
   ]
  },
  {
   "cell_type": "code",
   "execution_count": 9,
   "id": "4616335b",
   "metadata": {},
   "outputs": [
    {
     "name": "stdout",
     "output_type": "stream",
     "text": [
      "<class 'pandas.core.frame.DataFrame'>\n",
      "RangeIndex: 7168 entries, 0 to 7167\n",
      "Data columns (total 7 columns):\n",
      " #   Column              Non-Null Count  Dtype         \n",
      "---  ------              --------------  -----         \n",
      " 0   application_id      7168 non-null   int64         \n",
      " 1   Interview Taken on  7168 non-null   datetime64[ns]\n",
      " 2   Status              7168 non-null   object        \n",
      " 3   event_name          7168 non-null   object        \n",
      " 4   Department          7168 non-null   object        \n",
      " 5   Post Name           7168 non-null   object        \n",
      " 6   Offered Salary      7167 non-null   float64       \n",
      "dtypes: datetime64[ns](1), float64(1), int64(1), object(4)\n",
      "memory usage: 392.1+ KB\n"
     ]
    }
   ],
   "source": [
    "data.info()"
   ]
  },
  {
   "cell_type": "code",
   "execution_count": 10,
   "id": "267ab17c",
   "metadata": {},
   "outputs": [
    {
     "data": {
      "text/html": [
       "<div>\n",
       "<style scoped>\n",
       "    .dataframe tbody tr th:only-of-type {\n",
       "        vertical-align: middle;\n",
       "    }\n",
       "\n",
       "    .dataframe tbody tr th {\n",
       "        vertical-align: top;\n",
       "    }\n",
       "\n",
       "    .dataframe thead th {\n",
       "        text-align: right;\n",
       "    }\n",
       "</style>\n",
       "<table border=\"1\" class=\"dataframe\">\n",
       "  <thead>\n",
       "    <tr style=\"text-align: right;\">\n",
       "      <th></th>\n",
       "      <th>Status</th>\n",
       "      <th>event_name</th>\n",
       "      <th>Department</th>\n",
       "      <th>Post Name</th>\n",
       "    </tr>\n",
       "  </thead>\n",
       "  <tbody>\n",
       "    <tr>\n",
       "      <th>0</th>\n",
       "      <td>Hired</td>\n",
       "      <td>Male</td>\n",
       "      <td>Service Department</td>\n",
       "      <td>c8</td>\n",
       "    </tr>\n",
       "    <tr>\n",
       "      <th>1</th>\n",
       "      <td>Hired</td>\n",
       "      <td>Female</td>\n",
       "      <td>Service Department</td>\n",
       "      <td>c5</td>\n",
       "    </tr>\n",
       "    <tr>\n",
       "      <th>2</th>\n",
       "      <td>Rejected</td>\n",
       "      <td>Male</td>\n",
       "      <td>Service Department</td>\n",
       "      <td>c5</td>\n",
       "    </tr>\n",
       "    <tr>\n",
       "      <th>3</th>\n",
       "      <td>Rejected</td>\n",
       "      <td>Female</td>\n",
       "      <td>Operations Department</td>\n",
       "      <td>i4</td>\n",
       "    </tr>\n",
       "    <tr>\n",
       "      <th>4</th>\n",
       "      <td>Hired</td>\n",
       "      <td>Male</td>\n",
       "      <td>Operations Department</td>\n",
       "      <td>i4</td>\n",
       "    </tr>\n",
       "    <tr>\n",
       "      <th>...</th>\n",
       "      <td>...</td>\n",
       "      <td>...</td>\n",
       "      <td>...</td>\n",
       "      <td>...</td>\n",
       "    </tr>\n",
       "    <tr>\n",
       "      <th>7163</th>\n",
       "      <td>Hired</td>\n",
       "      <td>Male</td>\n",
       "      <td>Service Department</td>\n",
       "      <td>c9</td>\n",
       "    </tr>\n",
       "    <tr>\n",
       "      <th>7164</th>\n",
       "      <td>Hired</td>\n",
       "      <td>Female</td>\n",
       "      <td>Service Department</td>\n",
       "      <td>c5</td>\n",
       "    </tr>\n",
       "    <tr>\n",
       "      <th>7165</th>\n",
       "      <td>Hired</td>\n",
       "      <td>Male</td>\n",
       "      <td>Service Department</td>\n",
       "      <td>c5</td>\n",
       "    </tr>\n",
       "    <tr>\n",
       "      <th>7166</th>\n",
       "      <td>Rejected</td>\n",
       "      <td>Male</td>\n",
       "      <td>Service Department</td>\n",
       "      <td>c5</td>\n",
       "    </tr>\n",
       "    <tr>\n",
       "      <th>7167</th>\n",
       "      <td>Hired</td>\n",
       "      <td>Male</td>\n",
       "      <td>Operations Department</td>\n",
       "      <td>c5</td>\n",
       "    </tr>\n",
       "  </tbody>\n",
       "</table>\n",
       "<p>7168 rows × 4 columns</p>\n",
       "</div>"
      ],
      "text/plain": [
       "        Status event_name             Department Post Name\n",
       "0        Hired       Male     Service Department        c8\n",
       "1        Hired     Female     Service Department        c5\n",
       "2     Rejected       Male     Service Department        c5\n",
       "3     Rejected     Female  Operations Department        i4\n",
       "4        Hired       Male  Operations Department        i4\n",
       "...        ...        ...                    ...       ...\n",
       "7163     Hired       Male     Service Department        c9\n",
       "7164     Hired     Female     Service Department        c5\n",
       "7165     Hired       Male     Service Department        c5\n",
       "7166  Rejected       Male     Service Department        c5\n",
       "7167     Hired       Male  Operations Department        c5\n",
       "\n",
       "[7168 rows x 4 columns]"
      ]
     },
     "execution_count": 10,
     "metadata": {},
     "output_type": "execute_result"
    }
   ],
   "source": [
    "# All the Objects in the Dataset. \n",
    "\n",
    "c_data=data.select_dtypes(\"object\")\n",
    "c_data"
   ]
  },
  {
   "cell_type": "code",
   "execution_count": 11,
   "id": "fbfae864",
   "metadata": {},
   "outputs": [
    {
     "data": {
      "text/html": [
       "<div>\n",
       "<style scoped>\n",
       "    .dataframe tbody tr th:only-of-type {\n",
       "        vertical-align: middle;\n",
       "    }\n",
       "\n",
       "    .dataframe tbody tr th {\n",
       "        vertical-align: top;\n",
       "    }\n",
       "\n",
       "    .dataframe thead th {\n",
       "        text-align: right;\n",
       "    }\n",
       "</style>\n",
       "<table border=\"1\" class=\"dataframe\">\n",
       "  <thead>\n",
       "    <tr style=\"text-align: right;\">\n",
       "      <th></th>\n",
       "      <th>application_id</th>\n",
       "      <th>Offered Salary</th>\n",
       "    </tr>\n",
       "  </thead>\n",
       "  <tbody>\n",
       "    <tr>\n",
       "      <th>0</th>\n",
       "      <td>383422</td>\n",
       "      <td>56553.0</td>\n",
       "    </tr>\n",
       "    <tr>\n",
       "      <th>1</th>\n",
       "      <td>907518</td>\n",
       "      <td>22075.0</td>\n",
       "    </tr>\n",
       "    <tr>\n",
       "      <th>2</th>\n",
       "      <td>176719</td>\n",
       "      <td>70069.0</td>\n",
       "    </tr>\n",
       "    <tr>\n",
       "      <th>3</th>\n",
       "      <td>429799</td>\n",
       "      <td>3207.0</td>\n",
       "    </tr>\n",
       "    <tr>\n",
       "      <th>4</th>\n",
       "      <td>253651</td>\n",
       "      <td>29668.0</td>\n",
       "    </tr>\n",
       "    <tr>\n",
       "      <th>...</th>\n",
       "      <td>...</td>\n",
       "      <td>...</td>\n",
       "    </tr>\n",
       "    <tr>\n",
       "      <th>7163</th>\n",
       "      <td>493131</td>\n",
       "      <td>49282.0</td>\n",
       "    </tr>\n",
       "    <tr>\n",
       "      <th>7164</th>\n",
       "      <td>214261</td>\n",
       "      <td>57742.0</td>\n",
       "    </tr>\n",
       "    <tr>\n",
       "      <th>7165</th>\n",
       "      <td>932441</td>\n",
       "      <td>69932.0</td>\n",
       "    </tr>\n",
       "    <tr>\n",
       "      <th>7166</th>\n",
       "      <td>39010</td>\n",
       "      <td>14489.0</td>\n",
       "    </tr>\n",
       "    <tr>\n",
       "      <th>7167</th>\n",
       "      <td>686055</td>\n",
       "      <td>54201.0</td>\n",
       "    </tr>\n",
       "  </tbody>\n",
       "</table>\n",
       "<p>7168 rows × 2 columns</p>\n",
       "</div>"
      ],
      "text/plain": [
       "      application_id  Offered Salary\n",
       "0             383422         56553.0\n",
       "1             907518         22075.0\n",
       "2             176719         70069.0\n",
       "3             429799          3207.0\n",
       "4             253651         29668.0\n",
       "...              ...             ...\n",
       "7163          493131         49282.0\n",
       "7164          214261         57742.0\n",
       "7165          932441         69932.0\n",
       "7166           39010         14489.0\n",
       "7167          686055         54201.0\n",
       "\n",
       "[7168 rows x 2 columns]"
      ]
     },
     "execution_count": 11,
     "metadata": {},
     "output_type": "execute_result"
    }
   ],
   "source": [
    "#All Numerical Value in the Dataset\n",
    "\n",
    "d_data=data.select_dtypes([\"int64\",\"float64\"])\n",
    "d_data"
   ]
  },
  {
   "cell_type": "markdown",
   "id": "ad0b2c36",
   "metadata": {},
   "source": [
    "[<a href=\"#Hiring-Process-Analytics\">Back to Top</a>]"
   ]
  },
  {
   "cell_type": "markdown",
   "id": "93547238",
   "metadata": {},
   "source": [
    "---"
   ]
  },
  {
   "cell_type": "markdown",
   "id": "e1617c4b",
   "metadata": {},
   "source": [
    "### Data Preprocessing:"
   ]
  },
  {
   "cell_type": "code",
   "execution_count": 12,
   "id": "735d3bfb",
   "metadata": {},
   "outputs": [
    {
     "data": {
      "text/html": [
       "<div>\n",
       "<style scoped>\n",
       "    .dataframe tbody tr th:only-of-type {\n",
       "        vertical-align: middle;\n",
       "    }\n",
       "\n",
       "    .dataframe tbody tr th {\n",
       "        vertical-align: top;\n",
       "    }\n",
       "\n",
       "    .dataframe thead th {\n",
       "        text-align: right;\n",
       "    }\n",
       "</style>\n",
       "<table border=\"1\" class=\"dataframe\">\n",
       "  <thead>\n",
       "    <tr style=\"text-align: right;\">\n",
       "      <th></th>\n",
       "      <th>application_id</th>\n",
       "      <th>Interview_Taken_on</th>\n",
       "      <th>Status</th>\n",
       "      <th>event_name</th>\n",
       "      <th>Department</th>\n",
       "      <th>Post_Name</th>\n",
       "      <th>Offered_Salary</th>\n",
       "    </tr>\n",
       "  </thead>\n",
       "  <tbody>\n",
       "    <tr>\n",
       "      <th>0</th>\n",
       "      <td>383422</td>\n",
       "      <td>2014-05-01 11:40:00</td>\n",
       "      <td>Hired</td>\n",
       "      <td>Male</td>\n",
       "      <td>Service Department</td>\n",
       "      <td>c8</td>\n",
       "      <td>56553.0</td>\n",
       "    </tr>\n",
       "    <tr>\n",
       "      <th>1</th>\n",
       "      <td>907518</td>\n",
       "      <td>2014-05-06 08:08:00</td>\n",
       "      <td>Hired</td>\n",
       "      <td>Female</td>\n",
       "      <td>Service Department</td>\n",
       "      <td>c5</td>\n",
       "      <td>22075.0</td>\n",
       "    </tr>\n",
       "    <tr>\n",
       "      <th>2</th>\n",
       "      <td>176719</td>\n",
       "      <td>2014-05-06 08:08:00</td>\n",
       "      <td>Rejected</td>\n",
       "      <td>Male</td>\n",
       "      <td>Service Department</td>\n",
       "      <td>c5</td>\n",
       "      <td>70069.0</td>\n",
       "    </tr>\n",
       "    <tr>\n",
       "      <th>3</th>\n",
       "      <td>429799</td>\n",
       "      <td>2014-05-02 16:28:00</td>\n",
       "      <td>Rejected</td>\n",
       "      <td>Female</td>\n",
       "      <td>Operations Department</td>\n",
       "      <td>i4</td>\n",
       "      <td>3207.0</td>\n",
       "    </tr>\n",
       "    <tr>\n",
       "      <th>4</th>\n",
       "      <td>253651</td>\n",
       "      <td>2014-05-02 16:32:00</td>\n",
       "      <td>Hired</td>\n",
       "      <td>Male</td>\n",
       "      <td>Operations Department</td>\n",
       "      <td>i4</td>\n",
       "      <td>29668.0</td>\n",
       "    </tr>\n",
       "    <tr>\n",
       "      <th>...</th>\n",
       "      <td>...</td>\n",
       "      <td>...</td>\n",
       "      <td>...</td>\n",
       "      <td>...</td>\n",
       "      <td>...</td>\n",
       "      <td>...</td>\n",
       "      <td>...</td>\n",
       "    </tr>\n",
       "    <tr>\n",
       "      <th>7163</th>\n",
       "      <td>493131</td>\n",
       "      <td>2014-08-28 17:32:00</td>\n",
       "      <td>Hired</td>\n",
       "      <td>Male</td>\n",
       "      <td>Service Department</td>\n",
       "      <td>c9</td>\n",
       "      <td>49282.0</td>\n",
       "    </tr>\n",
       "    <tr>\n",
       "      <th>7164</th>\n",
       "      <td>214261</td>\n",
       "      <td>2014-08-31 01:36:00</td>\n",
       "      <td>Hired</td>\n",
       "      <td>Female</td>\n",
       "      <td>Service Department</td>\n",
       "      <td>c5</td>\n",
       "      <td>57742.0</td>\n",
       "    </tr>\n",
       "    <tr>\n",
       "      <th>7165</th>\n",
       "      <td>932441</td>\n",
       "      <td>2014-08-31 01:37:00</td>\n",
       "      <td>Hired</td>\n",
       "      <td>Male</td>\n",
       "      <td>Service Department</td>\n",
       "      <td>c5</td>\n",
       "      <td>69932.0</td>\n",
       "    </tr>\n",
       "    <tr>\n",
       "      <th>7166</th>\n",
       "      <td>39010</td>\n",
       "      <td>2014-08-31 01:38:00</td>\n",
       "      <td>Rejected</td>\n",
       "      <td>Male</td>\n",
       "      <td>Service Department</td>\n",
       "      <td>c5</td>\n",
       "      <td>14489.0</td>\n",
       "    </tr>\n",
       "    <tr>\n",
       "      <th>7167</th>\n",
       "      <td>686055</td>\n",
       "      <td>2014-08-26 12:14:00</td>\n",
       "      <td>Hired</td>\n",
       "      <td>Male</td>\n",
       "      <td>Operations Department</td>\n",
       "      <td>c5</td>\n",
       "      <td>54201.0</td>\n",
       "    </tr>\n",
       "  </tbody>\n",
       "</table>\n",
       "<p>7168 rows × 7 columns</p>\n",
       "</div>"
      ],
      "text/plain": [
       "      application_id  Interview_Taken_on    Status event_name  \\\n",
       "0             383422 2014-05-01 11:40:00     Hired       Male   \n",
       "1             907518 2014-05-06 08:08:00     Hired     Female   \n",
       "2             176719 2014-05-06 08:08:00  Rejected       Male   \n",
       "3             429799 2014-05-02 16:28:00  Rejected     Female   \n",
       "4             253651 2014-05-02 16:32:00     Hired       Male   \n",
       "...              ...                 ...       ...        ...   \n",
       "7163          493131 2014-08-28 17:32:00     Hired       Male   \n",
       "7164          214261 2014-08-31 01:36:00     Hired     Female   \n",
       "7165          932441 2014-08-31 01:37:00     Hired       Male   \n",
       "7166           39010 2014-08-31 01:38:00  Rejected       Male   \n",
       "7167          686055 2014-08-26 12:14:00     Hired       Male   \n",
       "\n",
       "                 Department Post_Name  Offered_Salary  \n",
       "0        Service Department        c8         56553.0  \n",
       "1        Service Department        c5         22075.0  \n",
       "2        Service Department        c5         70069.0  \n",
       "3     Operations Department        i4          3207.0  \n",
       "4     Operations Department        i4         29668.0  \n",
       "...                     ...       ...             ...  \n",
       "7163     Service Department        c9         49282.0  \n",
       "7164     Service Department        c5         57742.0  \n",
       "7165     Service Department        c5         69932.0  \n",
       "7166     Service Department        c5         14489.0  \n",
       "7167  Operations Department        c5         54201.0  \n",
       "\n",
       "[7168 rows x 7 columns]"
      ]
     },
     "execution_count": 12,
     "metadata": {},
     "output_type": "execute_result"
    }
   ],
   "source": [
    "#Changing the Column Name\n",
    "\n",
    "data.rename(columns={\"Interview Taken on\":\"Interview_Taken_on\",\"Post Name\":\"Post_Name\",\"Offered Salary\":\"Offered_Salary\"},\n",
    "            inplace=True)\n",
    "data"
   ]
  },
  {
   "cell_type": "code",
   "execution_count": 13,
   "id": "0644dd95",
   "metadata": {},
   "outputs": [],
   "source": [
    "# Removing not available values in Offered Salary with the mean of \"Offered_Salary\"\n",
    "# Not much effect since there was only 1 value which was Not Available\n",
    "\n",
    "data.fillna({\"Offered_Salary\":data[\"Offered_Salary\"].mean()},inplace=True)"
   ]
  },
  {
   "cell_type": "code",
   "execution_count": 14,
   "id": "56ba7588",
   "metadata": {},
   "outputs": [
    {
     "data": {
      "text/plain": [
       "application_id        0\n",
       "Interview_Taken_on    0\n",
       "Status                0\n",
       "event_name            0\n",
       "Department            0\n",
       "Post_Name             0\n",
       "Offered_Salary        0\n",
       "dtype: int64"
      ]
     },
     "execution_count": 14,
     "metadata": {},
     "output_type": "execute_result"
    }
   ],
   "source": [
    "data.isnull().sum()"
   ]
  },
  {
   "cell_type": "code",
   "execution_count": 15,
   "id": "7e6ba82c",
   "metadata": {},
   "outputs": [
    {
     "data": {
      "text/plain": [
       "count      7168.000000\n",
       "mean      49983.029022\n",
       "std       28852.163831\n",
       "min         100.000000\n",
       "25%       25463.750000\n",
       "50%       49628.000000\n",
       "75%       74429.000000\n",
       "max      400000.000000\n",
       "Name: Offered_Salary, dtype: float64"
      ]
     },
     "execution_count": 15,
     "metadata": {},
     "output_type": "execute_result"
    }
   ],
   "source": [
    "#Describing Offered_Salary Column\n",
    "\n",
    "data[\"Offered_Salary\"].describe()"
   ]
  },
  {
   "cell_type": "code",
   "execution_count": 16,
   "id": "949f89ef",
   "metadata": {},
   "outputs": [],
   "source": [
    "d=data[\"application_id\"].duplicated().sum()"
   ]
  },
  {
   "cell_type": "code",
   "execution_count": 17,
   "id": "17cd5b1e",
   "metadata": {},
   "outputs": [],
   "source": [
    "# removing 27 duplicate values from the data on the basis of application_id column.\n",
    "\n",
    "data.drop_duplicates(subset=\"application_id\",keep=\"first\",inplace=True)"
   ]
  },
  {
   "cell_type": "code",
   "execution_count": 18,
   "id": "bdfeb7db",
   "metadata": {},
   "outputs": [
    {
     "data": {
      "text/plain": [
       "0"
      ]
     },
     "execution_count": 18,
     "metadata": {},
     "output_type": "execute_result"
    }
   ],
   "source": [
    "data[\"application_id\"].duplicated().sum()"
   ]
  },
  {
   "cell_type": "markdown",
   "id": "2973de40",
   "metadata": {},
   "source": [
    "##### Final Dataset"
   ]
  },
  {
   "cell_type": "code",
   "execution_count": 19,
   "id": "567697d6",
   "metadata": {},
   "outputs": [
    {
     "data": {
      "text/html": [
       "<div>\n",
       "<style scoped>\n",
       "    .dataframe tbody tr th:only-of-type {\n",
       "        vertical-align: middle;\n",
       "    }\n",
       "\n",
       "    .dataframe tbody tr th {\n",
       "        vertical-align: top;\n",
       "    }\n",
       "\n",
       "    .dataframe thead th {\n",
       "        text-align: right;\n",
       "    }\n",
       "</style>\n",
       "<table border=\"1\" class=\"dataframe\">\n",
       "  <thead>\n",
       "    <tr style=\"text-align: right;\">\n",
       "      <th></th>\n",
       "      <th>application_id</th>\n",
       "      <th>Interview_Taken_on</th>\n",
       "      <th>Status</th>\n",
       "      <th>event_name</th>\n",
       "      <th>Department</th>\n",
       "      <th>Post_Name</th>\n",
       "      <th>Offered_Salary</th>\n",
       "    </tr>\n",
       "  </thead>\n",
       "  <tbody>\n",
       "    <tr>\n",
       "      <th>0</th>\n",
       "      <td>383422</td>\n",
       "      <td>2014-05-01 11:40:00</td>\n",
       "      <td>Hired</td>\n",
       "      <td>Male</td>\n",
       "      <td>Service Department</td>\n",
       "      <td>c8</td>\n",
       "      <td>56553.0</td>\n",
       "    </tr>\n",
       "    <tr>\n",
       "      <th>1</th>\n",
       "      <td>907518</td>\n",
       "      <td>2014-05-06 08:08:00</td>\n",
       "      <td>Hired</td>\n",
       "      <td>Female</td>\n",
       "      <td>Service Department</td>\n",
       "      <td>c5</td>\n",
       "      <td>22075.0</td>\n",
       "    </tr>\n",
       "    <tr>\n",
       "      <th>2</th>\n",
       "      <td>176719</td>\n",
       "      <td>2014-05-06 08:08:00</td>\n",
       "      <td>Rejected</td>\n",
       "      <td>Male</td>\n",
       "      <td>Service Department</td>\n",
       "      <td>c5</td>\n",
       "      <td>70069.0</td>\n",
       "    </tr>\n",
       "    <tr>\n",
       "      <th>3</th>\n",
       "      <td>429799</td>\n",
       "      <td>2014-05-02 16:28:00</td>\n",
       "      <td>Rejected</td>\n",
       "      <td>Female</td>\n",
       "      <td>Operations Department</td>\n",
       "      <td>i4</td>\n",
       "      <td>3207.0</td>\n",
       "    </tr>\n",
       "    <tr>\n",
       "      <th>4</th>\n",
       "      <td>253651</td>\n",
       "      <td>2014-05-02 16:32:00</td>\n",
       "      <td>Hired</td>\n",
       "      <td>Male</td>\n",
       "      <td>Operations Department</td>\n",
       "      <td>i4</td>\n",
       "      <td>29668.0</td>\n",
       "    </tr>\n",
       "    <tr>\n",
       "      <th>...</th>\n",
       "      <td>...</td>\n",
       "      <td>...</td>\n",
       "      <td>...</td>\n",
       "      <td>...</td>\n",
       "      <td>...</td>\n",
       "      <td>...</td>\n",
       "      <td>...</td>\n",
       "    </tr>\n",
       "    <tr>\n",
       "      <th>7163</th>\n",
       "      <td>493131</td>\n",
       "      <td>2014-08-28 17:32:00</td>\n",
       "      <td>Hired</td>\n",
       "      <td>Male</td>\n",
       "      <td>Service Department</td>\n",
       "      <td>c9</td>\n",
       "      <td>49282.0</td>\n",
       "    </tr>\n",
       "    <tr>\n",
       "      <th>7164</th>\n",
       "      <td>214261</td>\n",
       "      <td>2014-08-31 01:36:00</td>\n",
       "      <td>Hired</td>\n",
       "      <td>Female</td>\n",
       "      <td>Service Department</td>\n",
       "      <td>c5</td>\n",
       "      <td>57742.0</td>\n",
       "    </tr>\n",
       "    <tr>\n",
       "      <th>7165</th>\n",
       "      <td>932441</td>\n",
       "      <td>2014-08-31 01:37:00</td>\n",
       "      <td>Hired</td>\n",
       "      <td>Male</td>\n",
       "      <td>Service Department</td>\n",
       "      <td>c5</td>\n",
       "      <td>69932.0</td>\n",
       "    </tr>\n",
       "    <tr>\n",
       "      <th>7166</th>\n",
       "      <td>39010</td>\n",
       "      <td>2014-08-31 01:38:00</td>\n",
       "      <td>Rejected</td>\n",
       "      <td>Male</td>\n",
       "      <td>Service Department</td>\n",
       "      <td>c5</td>\n",
       "      <td>14489.0</td>\n",
       "    </tr>\n",
       "    <tr>\n",
       "      <th>7167</th>\n",
       "      <td>686055</td>\n",
       "      <td>2014-08-26 12:14:00</td>\n",
       "      <td>Hired</td>\n",
       "      <td>Male</td>\n",
       "      <td>Operations Department</td>\n",
       "      <td>c5</td>\n",
       "      <td>54201.0</td>\n",
       "    </tr>\n",
       "  </tbody>\n",
       "</table>\n",
       "<p>7141 rows × 7 columns</p>\n",
       "</div>"
      ],
      "text/plain": [
       "      application_id  Interview_Taken_on    Status event_name  \\\n",
       "0             383422 2014-05-01 11:40:00     Hired       Male   \n",
       "1             907518 2014-05-06 08:08:00     Hired     Female   \n",
       "2             176719 2014-05-06 08:08:00  Rejected       Male   \n",
       "3             429799 2014-05-02 16:28:00  Rejected     Female   \n",
       "4             253651 2014-05-02 16:32:00     Hired       Male   \n",
       "...              ...                 ...       ...        ...   \n",
       "7163          493131 2014-08-28 17:32:00     Hired       Male   \n",
       "7164          214261 2014-08-31 01:36:00     Hired     Female   \n",
       "7165          932441 2014-08-31 01:37:00     Hired       Male   \n",
       "7166           39010 2014-08-31 01:38:00  Rejected       Male   \n",
       "7167          686055 2014-08-26 12:14:00     Hired       Male   \n",
       "\n",
       "                 Department Post_Name  Offered_Salary  \n",
       "0        Service Department        c8         56553.0  \n",
       "1        Service Department        c5         22075.0  \n",
       "2        Service Department        c5         70069.0  \n",
       "3     Operations Department        i4          3207.0  \n",
       "4     Operations Department        i4         29668.0  \n",
       "...                     ...       ...             ...  \n",
       "7163     Service Department        c9         49282.0  \n",
       "7164     Service Department        c5         57742.0  \n",
       "7165     Service Department        c5         69932.0  \n",
       "7166     Service Department        c5         14489.0  \n",
       "7167  Operations Department        c5         54201.0  \n",
       "\n",
       "[7141 rows x 7 columns]"
      ]
     },
     "execution_count": 19,
     "metadata": {},
     "output_type": "execute_result"
    }
   ],
   "source": [
    "data"
   ]
  },
  {
   "cell_type": "markdown",
   "id": "98040323",
   "metadata": {},
   "source": [
    "[<a href=\"#Hiring-Process-Analytics\">Back to Top</a>]"
   ]
  },
  {
   "cell_type": "markdown",
   "id": "fd14a352",
   "metadata": {},
   "source": [
    "---"
   ]
  },
  {
   "cell_type": "markdown",
   "id": "edd32161",
   "metadata": {},
   "source": [
    "### Analysis:"
   ]
  },
  {
   "cell_type": "code",
   "execution_count": 20,
   "id": "7c6ee6e8",
   "metadata": {
    "scrolled": true
   },
   "outputs": [
    {
     "data": {
      "text/plain": [
       "Hired       4679\n",
       "Rejected    2462\n",
       "Name: Status, dtype: int64"
      ]
     },
     "execution_count": 20,
     "metadata": {},
     "output_type": "execute_result"
    }
   ],
   "source": [
    "# Status count in the dataset \n",
    "\n",
    "data.Status.value_counts()"
   ]
  },
  {
   "cell_type": "code",
   "execution_count": 21,
   "id": "5f493013",
   "metadata": {},
   "outputs": [
    {
     "data": {
      "text/plain": [
       "Male                 4070\n",
       "Female               2664\n",
       "Don’t want to say     392\n",
       "Name: event_name, dtype: int64"
      ]
     },
     "execution_count": 21,
     "metadata": {},
     "output_type": "execute_result"
    }
   ],
   "source": [
    "# Droping the rows from thw dataset where event name is \"-\"\n",
    "\n",
    "data.drop(data[data[\"event_name\"]==\"-\"].index,inplace=True)\n",
    "data.event_name.value_counts()"
   ]
  },
  {
   "cell_type": "code",
   "execution_count": 22,
   "id": "0eb5ab31",
   "metadata": {},
   "outputs": [
    {
     "data": {
      "text/html": [
       "<div>\n",
       "<style scoped>\n",
       "    .dataframe tbody tr th:only-of-type {\n",
       "        vertical-align: middle;\n",
       "    }\n",
       "\n",
       "    .dataframe tbody tr th {\n",
       "        vertical-align: top;\n",
       "    }\n",
       "\n",
       "    .dataframe thead th {\n",
       "        text-align: right;\n",
       "    }\n",
       "</style>\n",
       "<table border=\"1\" class=\"dataframe\">\n",
       "  <thead>\n",
       "    <tr style=\"text-align: right;\">\n",
       "      <th></th>\n",
       "      <th>mean</th>\n",
       "      <th>min</th>\n",
       "      <th>max</th>\n",
       "    </tr>\n",
       "    <tr>\n",
       "      <th>Post_Name</th>\n",
       "      <th></th>\n",
       "      <th></th>\n",
       "      <th></th>\n",
       "    </tr>\n",
       "  </thead>\n",
       "  <tbody>\n",
       "    <tr>\n",
       "      <th>-</th>\n",
       "      <td>85914.000000</td>\n",
       "      <td>85914.0</td>\n",
       "      <td>85914.0</td>\n",
       "    </tr>\n",
       "    <tr>\n",
       "      <th>b9</th>\n",
       "      <td>49847.287912</td>\n",
       "      <td>1105.0</td>\n",
       "      <td>200000.0</td>\n",
       "    </tr>\n",
       "    <tr>\n",
       "      <th>c-10</th>\n",
       "      <td>51244.359307</td>\n",
       "      <td>1817.0</td>\n",
       "      <td>99891.0</td>\n",
       "    </tr>\n",
       "    <tr>\n",
       "      <th>c5</th>\n",
       "      <td>50241.313003</td>\n",
       "      <td>1038.0</td>\n",
       "      <td>99948.0</td>\n",
       "    </tr>\n",
       "    <tr>\n",
       "      <th>c8</th>\n",
       "      <td>50747.257862</td>\n",
       "      <td>1035.0</td>\n",
       "      <td>99967.0</td>\n",
       "    </tr>\n",
       "    <tr>\n",
       "      <th>c9</th>\n",
       "      <td>50210.546884</td>\n",
       "      <td>1007.0</td>\n",
       "      <td>99953.0</td>\n",
       "    </tr>\n",
       "    <tr>\n",
       "      <th>i1</th>\n",
       "      <td>49937.954545</td>\n",
       "      <td>1519.0</td>\n",
       "      <td>99939.0</td>\n",
       "    </tr>\n",
       "    <tr>\n",
       "      <th>i4</th>\n",
       "      <td>48877.840909</td>\n",
       "      <td>1212.0</td>\n",
       "      <td>400000.0</td>\n",
       "    </tr>\n",
       "    <tr>\n",
       "      <th>i5</th>\n",
       "      <td>49467.559949</td>\n",
       "      <td>1304.0</td>\n",
       "      <td>98926.0</td>\n",
       "    </tr>\n",
       "    <tr>\n",
       "      <th>i6</th>\n",
       "      <td>48839.248577</td>\n",
       "      <td>1074.0</td>\n",
       "      <td>99762.0</td>\n",
       "    </tr>\n",
       "    <tr>\n",
       "      <th>i7</th>\n",
       "      <td>50073.575849</td>\n",
       "      <td>1022.0</td>\n",
       "      <td>300000.0</td>\n",
       "    </tr>\n",
       "    <tr>\n",
       "      <th>m6</th>\n",
       "      <td>34521.333333</td>\n",
       "      <td>800.0</td>\n",
       "      <td>68466.0</td>\n",
       "    </tr>\n",
       "    <tr>\n",
       "      <th>m7</th>\n",
       "      <td>41402.000000</td>\n",
       "      <td>41402.0</td>\n",
       "      <td>41402.0</td>\n",
       "    </tr>\n",
       "    <tr>\n",
       "      <th>n10</th>\n",
       "      <td>26990.000000</td>\n",
       "      <td>26990.0</td>\n",
       "      <td>26990.0</td>\n",
       "    </tr>\n",
       "    <tr>\n",
       "      <th>n6</th>\n",
       "      <td>44700.000000</td>\n",
       "      <td>44700.0</td>\n",
       "      <td>44700.0</td>\n",
       "    </tr>\n",
       "    <tr>\n",
       "      <th>n9</th>\n",
       "      <td>46219.000000</td>\n",
       "      <td>46219.0</td>\n",
       "      <td>46219.0</td>\n",
       "    </tr>\n",
       "  </tbody>\n",
       "</table>\n",
       "</div>"
      ],
      "text/plain": [
       "                   mean      min       max\n",
       "Post_Name                                 \n",
       "-          85914.000000  85914.0   85914.0\n",
       "b9         49847.287912   1105.0  200000.0\n",
       "c-10       51244.359307   1817.0   99891.0\n",
       "c5         50241.313003   1038.0   99948.0\n",
       "c8         50747.257862   1035.0   99967.0\n",
       "c9         50210.546884   1007.0   99953.0\n",
       "i1         49937.954545   1519.0   99939.0\n",
       "i4         48877.840909   1212.0  400000.0\n",
       "i5         49467.559949   1304.0   98926.0\n",
       "i6         48839.248577   1074.0   99762.0\n",
       "i7         50073.575849   1022.0  300000.0\n",
       "m6         34521.333333    800.0   68466.0\n",
       "m7         41402.000000  41402.0   41402.0\n",
       "n10        26990.000000  26990.0   26990.0\n",
       "n6         44700.000000  44700.0   44700.0\n",
       "n9         46219.000000  46219.0   46219.0"
      ]
     },
     "execution_count": 22,
     "metadata": {},
     "output_type": "execute_result"
    }
   ],
   "source": [
    "data.groupby([\"Post_Name\"]).Offered_Salary.agg([\"mean\",\"min\",\"max\"])"
   ]
  },
  {
   "cell_type": "code",
   "execution_count": 23,
   "id": "507e6e47",
   "metadata": {},
   "outputs": [
    {
     "data": {
      "text/plain": [
       "c9      1781\n",
       "c5      1738\n",
       "i7       976\n",
       "i5       784\n",
       "i6       527\n",
       "b9       455\n",
       "c8       318\n",
       "c-10     231\n",
       "i1       220\n",
       "i4        88\n",
       "m6         3\n",
       "-          1\n",
       "n10        1\n",
       "m7         1\n",
       "n9         1\n",
       "n6         1\n",
       "Name: Post_Name, dtype: int64"
      ]
     },
     "execution_count": 23,
     "metadata": {},
     "output_type": "execute_result"
    }
   ],
   "source": [
    "# Total Post Count on the basis of Post_Name\n",
    "\n",
    "data.Post_Name.value_counts()"
   ]
  },
  {
   "cell_type": "markdown",
   "id": "f219bc92",
   "metadata": {},
   "source": [
    "<div class=\"alert alert-block alert-warning\">\n",
    "<b>Imp:</b> Now below on are the visualisation done on the basis of question provided on the dataset.\n",
    "</div>"
   ]
  },
  {
   "cell_type": "markdown",
   "id": "20fffae5",
   "metadata": {},
   "source": [
    "#### Total Male and Female in the Data Set"
   ]
  },
  {
   "cell_type": "code",
   "execution_count": 24,
   "id": "31fa837e",
   "metadata": {},
   "outputs": [
    {
     "data": {
      "image/png": "[encoded data removed]",
      "text/plain": [
       "<Figure size 432x288 with 1 Axes>"
      ]
     },
     "metadata": {},
     "output_type": "display_data"
    }
   ],
   "source": [
    "Gender=\"Male\",\"Female\",\"Don’t want to say\"\n",
    "total=data.event_name.value_counts()\n",
    "colors=[\"Red\",\"Pink\",\"Yellow\"]\n",
    "explode=(0,0,0)\n",
    "plt.pie(total)\n",
    "explode=(0,0,0)\n",
    "plt.pie(total,explode=explode,labels=Gender,colors=colors,autopct='%1.1f%%',shadow=True,startangle=360)\n",
    "plt.title('Male and Female % in Dataset')\n",
    "plt.legend(loc=\"upper right\",handlelength=2, borderpad=2, labelspacing=1.2,bbox_to_anchor=(0.1, 1))\n",
    "plt.show()"
   ]
  },
  {
   "cell_type": "markdown",
   "id": "25933443",
   "metadata": {},
   "source": [
    "<div class=\"alert alert-block alert-danger\">\n",
    "<b>Insight:</b>\n",
    "    <ul>\n",
    "        <li>This is on the Gender from the entire dataset</li>\n",
    "        <li>Male has more occurence upto 57.1%</li>\n",
    "        <li>Female has occurence upto 37.4%</li>\n",
    "        <li>Don't want to say are 5.5%</li>\n",
    "    </ul>\n",
    "</div>"
   ]
  },
  {
   "cell_type": "markdown",
   "id": "c581647f",
   "metadata": {},
   "source": [
    "Hiring: Process of intaking of people into an organization for different kinds of positions.\n",
    "Your task: How many males and females are Hired ?\n",
    "Average Salary: Adding all the salaries for a select group of employees and then dividing the sum by the number of employees in the group.\n",
    "Your task: What is the average salary offered in this company ?\n",
    "Class Intervals: The class interval is the difference between the upper class limit and the lower class limit.\n",
    "Your task: Draw the class intervals for salary in the company ?\n",
    "Charts and Plots: This is one of the most important part of analysis to visualize the data.\n",
    "Your task: Draw Pie Chart / Bar Graph ( or any other graph ) to show proportion of people working different department ?\n",
    "Charts: Use different charts and graphs to perform the task representing the data.\n",
    "Your task: Represent different post tiers using chart/graph?"
   ]
  },
  {
   "cell_type": "markdown",
   "id": "a446efc2",
   "metadata": {},
   "source": [
    "#### Hiring: Process of intaking of people into an organization for different kinds of positions. \n",
    "**Your task**: How many males and females are Hired ?"
   ]
  },
  {
   "cell_type": "code",
   "execution_count": 25,
   "id": "aa90acbb",
   "metadata": {},
   "outputs": [
    {
     "data": {
      "image/png": "[encoded data removed]",
      "text/plain": [
       "<Figure size 432x288 with 1 Axes>"
      ]
     },
     "metadata": {
      "needs_background": "light"
     },
     "output_type": "display_data"
    },
    {
     "data": {
      "image/png": "[encoded data removed]",
      "text/plain": [
       "<Figure size 432x288 with 1 Axes>"
      ]
     },
     "metadata": {
      "needs_background": "light"
     },
     "output_type": "display_data"
    },
    {
     "data": {
      "image/png": "[encoded data removed]",
      "text/plain": [
       "<Figure size 432x288 with 1 Axes>"
      ]
     },
     "metadata": {
      "needs_background": "light"
     },
     "output_type": "display_data"
    }
   ],
   "source": [
    "#Plotting data for all Male and Female.\n",
    "\n",
    "plt.title(\"Representation of all the Male and Female\")\n",
    "p=[\"Red\",\"Pink\",\"Yellow\"]\n",
    "sns.countplot(x =data.event_name, data = data,palette=p)\n",
    "plt.show()\n",
    "\n",
    "# Filtering only Hired People and plotting it\n",
    "c=data[data[\"Status\"]==\"Hired\"]\n",
    "plt.title(\"Data for the Only Hired Male and Female\")\n",
    "sns.countplot(x =c.event_name, data = data,palette=p)\n",
    "plt.show()\n",
    "\n",
    "# According to Department\n",
    "c=data[data[\"Status\"]==\"Hired\"]\n",
    "plt.title(\"Data for the Only Hired Male and Female Department wise\")\n",
    "sns.countplot(x =c.event_name, data = data,hue=\"Department\")\n",
    "plt.show()"
   ]
  },
  {
   "cell_type": "markdown",
   "id": "82c05baf",
   "metadata": {},
   "source": [
    "<div class=\"alert alert-block alert-danger\">\n",
    "<b>Insight:</b>\n",
    "    <ul>\n",
    "        <li>This is on the Gender Based on their hiring</li>\n",
    "        <li>Male are more hired than Female in overall Dataset</li>\n",
    "        <li>Department wise most hiring of male was done in Operations Department</li>\n",
    "        <li>Department wise most hiring of female was done in Operations Department</li>\n",
    "    </ul>\n",
    "</div>"
   ]
  },
  {
   "cell_type": "markdown",
   "id": "83dc068b",
   "metadata": {},
   "source": [
    "#### Average Salary: Adding all the salaries for a select group of employees and then dividing the sum by the number of employees in the group. \n",
    "\n",
    "**Your task**: What is the average salary for each post offered in this company ? "
   ]
  },
  {
   "cell_type": "code",
   "execution_count": 26,
   "id": "13d2e3c5",
   "metadata": {},
   "outputs": [
    {
     "data": {
      "text/html": [
       "<div>\n",
       "<style scoped>\n",
       "    .dataframe tbody tr th:only-of-type {\n",
       "        vertical-align: middle;\n",
       "    }\n",
       "\n",
       "    .dataframe tbody tr th {\n",
       "        vertical-align: top;\n",
       "    }\n",
       "\n",
       "    .dataframe thead th {\n",
       "        text-align: right;\n",
       "    }\n",
       "</style>\n",
       "<table border=\"1\" class=\"dataframe\">\n",
       "  <thead>\n",
       "    <tr style=\"text-align: right;\">\n",
       "      <th></th>\n",
       "      <th>mean</th>\n",
       "    </tr>\n",
       "    <tr>\n",
       "      <th>Post_Name</th>\n",
       "      <th></th>\n",
       "    </tr>\n",
       "  </thead>\n",
       "  <tbody>\n",
       "    <tr>\n",
       "      <th>-</th>\n",
       "      <td>85914.000000</td>\n",
       "    </tr>\n",
       "    <tr>\n",
       "      <th>b9</th>\n",
       "      <td>49847.287912</td>\n",
       "    </tr>\n",
       "    <tr>\n",
       "      <th>c-10</th>\n",
       "      <td>51244.359307</td>\n",
       "    </tr>\n",
       "    <tr>\n",
       "      <th>c5</th>\n",
       "      <td>50241.313003</td>\n",
       "    </tr>\n",
       "    <tr>\n",
       "      <th>c8</th>\n",
       "      <td>50747.257862</td>\n",
       "    </tr>\n",
       "    <tr>\n",
       "      <th>c9</th>\n",
       "      <td>50210.546884</td>\n",
       "    </tr>\n",
       "    <tr>\n",
       "      <th>i1</th>\n",
       "      <td>49937.954545</td>\n",
       "    </tr>\n",
       "    <tr>\n",
       "      <th>i4</th>\n",
       "      <td>48877.840909</td>\n",
       "    </tr>\n",
       "    <tr>\n",
       "      <th>i5</th>\n",
       "      <td>49467.559949</td>\n",
       "    </tr>\n",
       "    <tr>\n",
       "      <th>i6</th>\n",
       "      <td>48839.248577</td>\n",
       "    </tr>\n",
       "    <tr>\n",
       "      <th>i7</th>\n",
       "      <td>50073.575849</td>\n",
       "    </tr>\n",
       "    <tr>\n",
       "      <th>m6</th>\n",
       "      <td>34521.333333</td>\n",
       "    </tr>\n",
       "    <tr>\n",
       "      <th>m7</th>\n",
       "      <td>41402.000000</td>\n",
       "    </tr>\n",
       "    <tr>\n",
       "      <th>n10</th>\n",
       "      <td>26990.000000</td>\n",
       "    </tr>\n",
       "    <tr>\n",
       "      <th>n6</th>\n",
       "      <td>44700.000000</td>\n",
       "    </tr>\n",
       "    <tr>\n",
       "      <th>n9</th>\n",
       "      <td>46219.000000</td>\n",
       "    </tr>\n",
       "  </tbody>\n",
       "</table>\n",
       "</div>"
      ],
      "text/plain": [
       "                   mean\n",
       "Post_Name              \n",
       "-          85914.000000\n",
       "b9         49847.287912\n",
       "c-10       51244.359307\n",
       "c5         50241.313003\n",
       "c8         50747.257862\n",
       "c9         50210.546884\n",
       "i1         49937.954545\n",
       "i4         48877.840909\n",
       "i5         49467.559949\n",
       "i6         48839.248577\n",
       "i7         50073.575849\n",
       "m6         34521.333333\n",
       "m7         41402.000000\n",
       "n10        26990.000000\n",
       "n6         44700.000000\n",
       "n9         46219.000000"
      ]
     },
     "execution_count": 26,
     "metadata": {},
     "output_type": "execute_result"
    }
   ],
   "source": [
    "df=data.groupby([\"Post_Name\"]).Offered_Salary.agg([\"mean\"])\n",
    "df"
   ]
  },
  {
   "cell_type": "code",
   "execution_count": 27,
   "id": "3b4301be",
   "metadata": {},
   "outputs": [
    {
     "data": {
      "text/plain": [
       "mean    85914.0\n",
       "dtype: float64"
      ]
     },
     "execution_count": 27,
     "metadata": {},
     "output_type": "execute_result"
    }
   ],
   "source": [
    "df.max()"
   ]
  },
  {
   "cell_type": "code",
   "execution_count": 28,
   "id": "0a4850c5",
   "metadata": {},
   "outputs": [
    {
     "data": {
      "image/png": "[encoded data removed]",
      "text/plain": [
       "<Figure size 432x288 with 1 Axes>"
      ]
     },
     "metadata": {
      "needs_background": "light"
     },
     "output_type": "display_data"
    }
   ],
   "source": [
    "plt.title(\"Average Salary for each Post Offered\")\n",
    "z=data.Post_Name\n",
    "zp=data.groupby([\"Post_Name\"]).Offered_Salary.mean()\n",
    "sns.barplot(x=data.Post_Name,y=data.Offered_Salary,data=data)\n",
    "plt.show()"
   ]
  },
  {
   "cell_type": "markdown",
   "id": "70443c62",
   "metadata": {},
   "source": [
    "<div class=\"alert alert-block alert-danger\">\n",
    "<b>Insight:</b>\n",
    "    <ul>\n",
    "        <li>This is on the Average Salary</li>\n",
    "        <li>Most Average Salary for Post Name was \"-\"</li>\n",
    "        <li>2nd higest Average Salary was for Post Name \"c-10\"</li>\n",
    "        <li>Minimum Average Salary was for Post Name \"n10\"</li>\n",
    "    </ul>\n",
    "</div>"
   ]
  },
  {
   "cell_type": "markdown",
   "id": "b97120a0",
   "metadata": {},
   "source": [
    "#### Class Intervals: The class interval is the difference between the upper class limit and the lower class limit. \n",
    "**Your task**: Draw the class intervals for salary in the company ? "
   ]
  },
  {
   "cell_type": "code",
   "execution_count": 29,
   "id": "8501c603",
   "metadata": {},
   "outputs": [
    {
     "data": {
      "text/plain": [
       "count      7126.000000\n",
       "mean      50018.106515\n",
       "std       28828.268238\n",
       "min         800.000000\n",
       "25%       25605.750000\n",
       "50%       49658.500000\n",
       "75%       74418.500000\n",
       "max      400000.000000\n",
       "Name: Offered_Salary, dtype: float64"
      ]
     },
     "execution_count": 29,
     "metadata": {},
     "output_type": "execute_result"
    }
   ],
   "source": [
    "data[\"Offered_Salary\"].describe()"
   ]
  },
  {
   "cell_type": "code",
   "execution_count": 30,
   "id": "5b7ec132",
   "metadata": {},
   "outputs": [
    {
     "data": {
      "text/plain": [
       "<Figure size 576x432 with 0 Axes>"
      ]
     },
     "metadata": {},
     "output_type": "display_data"
    },
    {
     "data": {
      "image/png": "[encoded data removed]",
      "text/plain": [
       "<Figure size 360x360 with 1 Axes>"
      ]
     },
     "metadata": {
      "needs_background": "light"
     },
     "output_type": "display_data"
    }
   ],
   "source": [
    "plt.figure(figsize=(8,6))\n",
    "sns.displot(data[\"Offered_Salary\"],bins=[0,25000,50000,75000,100000,125000,150000,175000,200000],color=\"red\")\n",
    "plt.title(\"Number of People working in different Department\")\n",
    "locs,labels=plt.xticks()\n",
    "plt.setp(labels, rotation=45)\n",
    "plt.show()"
   ]
  },
  {
   "cell_type": "markdown",
   "id": "6bc943f7",
   "metadata": {},
   "source": [
    "<div class=\"alert alert-block alert-danger\">\n",
    "<b>Insight:</b>\n",
    "    <ul>\n",
    "        <li>This is on the Class Interval based on Salary</li>\n",
    "        <li>Class Interval is between 0-25000, with every 25000</li>\n",
    "        <li>25000-50000 has maximum count</li>\n",
    "    </ul>\n",
    "</div>"
   ]
  },
  {
   "cell_type": "markdown",
   "id": "c1ee6df2",
   "metadata": {},
   "source": [
    "#### Charts and Plots: This is one of the most important part of analysis to visualize the data.* \n",
    "**Your task**: Draw Pie Chart / Bar Graph ( or any other graph ) to show proportion of people working different department "
   ]
  },
  {
   "cell_type": "code",
   "execution_count": 31,
   "id": "01429a14",
   "metadata": {},
   "outputs": [
    {
     "data": {
      "image/png": "[encoded data removed]",
      "text/plain": [
       "<Figure size 576x432 with 1 Axes>"
      ]
     },
     "metadata": {
      "needs_background": "light"
     },
     "output_type": "display_data"
    }
   ],
   "source": [
    "#It is for hired candidate\n",
    "\n",
    "plt.figure(figsize=(8,6))\n",
    "plt.title(\"Number of People working in different Department\")\n",
    "sns.countplot(x =c.Department, data = c)\n",
    "locs,labels=plt.xticks()\n",
    "plt.setp(labels, rotation=45)\n",
    "plt.show()"
   ]
  },
  {
   "cell_type": "code",
   "execution_count": 32,
   "id": "b5a297ef",
   "metadata": {},
   "outputs": [
    {
     "data": {
      "image/png": "[encoded data removed]",
      "text/plain": [
       "<Figure size 432x288 with 1 Axes>"
      ]
     },
     "metadata": {},
     "output_type": "display_data"
    }
   ],
   "source": [
    "Dep=[\"Service Department\",\"Operations Department\",\"Sales Department\",\"Finance Department\",\n",
    "     \"Production Department\",\"Purchase Department\",\"Marketing Department\", \"Human Resource Depatment\",\n",
    "     \"Generaal Management\"]     \n",
    "total=c.Department.value_counts()\n",
    "explode=(0,0,0,0,0,0,0,0,0)\n",
    "plt.pie(total)\n",
    "explode=(0,0,0,0,0,0,0,0,0)\n",
    "plt.pie(total,explode=explode,labels=Dep,autopct='%1.1f%%',shadow=True,startangle=360)\n",
    "plt.title('Number of People working in different Department')\n",
    "plt.legend(loc=\"upper right\",handlelength=2, borderpad=2, labelspacing=1.2,bbox_to_anchor=(0.1, 1))\n",
    "plt.show()"
   ]
  },
  {
   "cell_type": "markdown",
   "id": "f22a99a3",
   "metadata": {},
   "source": [
    "<div class=\"alert alert-block alert-danger\">\n",
    "<b>Insight:</b>\n",
    "    <ul>\n",
    "        <li>This is on the Number of People in different Department</li>\n",
    "        <li>Operation Department has maximum number of Workers</li>\n",
    "    </ul>\n",
    "</div>"
   ]
  },
  {
   "cell_type": "code",
   "execution_count": 38,
   "id": "e5849fad",
   "metadata": {
    "scrolled": true
   },
   "outputs": [
    {
     "data": {
      "image/png": "[encoded data removed]",
      "text/plain": [
       "<Figure size 484.125x360 with 6 Axes>"
      ]
     },
     "metadata": {
      "needs_background": "light"
     },
     "output_type": "display_data"
    }
   ],
   "source": [
    "sns.pairplot(c,hue=\"event_name\",kind=\"kde\")\n",
    "plt.show()"
   ]
  },
  {
   "cell_type": "markdown",
   "id": "8a522e2b",
   "metadata": {},
   "source": [
    "[<a href=\"#Hiring-Process-Analytics\">Back to Top</a>]"
   ]
  },
  {
   "cell_type": "markdown",
   "id": "5d7066b5",
   "metadata": {},
   "source": [
    "---"
   ]
  }
 ],
 "metadata": {
  "kernelspec": {
   "display_name": "Python 3 (ipykernel)",
   "language": "python",
   "name": "python3"
  },
  "language_info": {
   "codemirror_mode": {
    "name": "ipython",
    "version": 3
   },
   "file_extension": ".py",
   "mimetype": "text/x-python",
   "name": "python",
   "nbconvert_exporter": "python",
   "pygments_lexer": "ipython3",
   "version": "3.9.12"
  }
 },
 "nbformat": 4,
 "nbformat_minor": 5
}
